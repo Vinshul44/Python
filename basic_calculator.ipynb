{
  "nbformat": 4,
  "nbformat_minor": 0,
  "metadata": {
    "colab": {
      "provenance": []
    },
    "kernelspec": {
      "name": "python3",
      "display_name": "Python 3"
    },
    "language_info": {
      "name": "python"
    }
  },
  "cells": [
    {
      "cell_type": "code",
      "execution_count": 3,
      "metadata": {
        "colab": {
          "base_uri": "https://localhost:8080/"
        },
        "id": "b6XZzFOKQlTT",
        "outputId": "33e63dce-64c9-4ffb-9fa9-90038544741c"
      },
      "outputs": [
        {
          "name": "stdout",
          "output_type": "stream",
          "text": [
            "Enter two numbers: 2 3\n",
            "select operation\n",
            "1. Addition\n",
            "2. Subtraction\n",
            "3. Multiplication\n",
            "4. Division\n",
            "5. Exit\n",
            "6. clear\n",
            "1\n",
            "5\n",
            "enter a no.4\n",
            "select operation\n",
            "1. Addition\n",
            "2. Subtraction\n",
            "3. Multiplication\n",
            "4. Division\n",
            "5. Exit\n",
            "6. clear\n",
            "3\n",
            "20\n",
            "enter a no.4\n",
            "select operation\n",
            "1. Addition\n",
            "2. Subtraction\n",
            "3. Multiplication\n",
            "4. Division\n",
            "5. Exit\n",
            "6. clear\n",
            "4\n",
            "5.0\n",
            "enter a no.6\n",
            "select operation\n",
            "1. Addition\n",
            "2. Subtraction\n",
            "3. Multiplication\n",
            "4. Division\n",
            "5. Exit\n",
            "6. clear\n",
            "6\n",
            "Enter two numbers: 2 3\n",
            "select operation\n",
            "1. Addition\n",
            "2. Subtraction\n",
            "3. Multiplication\n",
            "4. Division\n",
            "5. Exit\n",
            "6. clear\n",
            "1\n",
            "5\n",
            "enter a no.6\n",
            "select operation\n",
            "1. Addition\n",
            "2. Subtraction\n",
            "3. Multiplication\n",
            "4. Division\n",
            "5. Exit\n",
            "6. clear\n",
            "5\n"
          ]
        }
      ],
      "source": [
        "x, y = map(int, input(\"Enter two numbers: \").split())\n",
        "i=5\n",
        "\n",
        "while i>0:\n",
        "  print(\"select operation\")\n",
        "  z=int(input(\"1. Addition\\n2. Subtraction\\n3. Multiplication\\n4. Division\\n5. Exit\\n6. clear\\n\"))\n",
        "  if z==1:\n",
        "    x=x+y\n",
        "    print(x)\n",
        "  elif z==2:\n",
        "    x=x-y\n",
        "    print(x)\n",
        "  elif z==3:\n",
        "    x=x*y\n",
        "    print(x)\n",
        "  elif z==4:\n",
        "    x=x/y\n",
        "    print(x)\n",
        "  elif z==5:\n",
        "    break\n",
        "  elif z==6:\n",
        "    x,y=map(int, input(\"Enter two numbers: \").split())\n",
        "  else:\n",
        "    print(\"enter valid option\")\n",
        "    break\n",
        "\n",
        "  if (not z==6 or z==5):\n",
        "    y=int(input(\"enter a no.\"))"
      ]
    }
  ]
}