{
  "nbformat": 4,
  "nbformat_minor": 0,
  "metadata": {
    "colab": {
      "provenance": []
    },
    "kernelspec": {
      "name": "python3",
      "display_name": "Python 3"
    },
    "language_info": {
      "name": "python"
    }
  },
  "cells": [
    {
      "cell_type": "code",
      "execution_count": null,
      "metadata": {
        "id": "-EzqcIIp76mY"
      },
      "outputs": [],
      "source": [
        "RESPONSE_LIBRARY = {\n",
        "    \"sport\": [\n",
        "      [''' Who is known as the “Flying Sikh” of India?\n",
        "A) Kapil Dev        B) Milkha Singh\n",
        "C) Sachin Tendulkar D) Abhinav Bindra''',1,[\"B\",\"b\",\"B) Milkha Singh\",\"Milkha Singh\"]],\n",
        "        ['''In which sport is the term \"Do or Die Raid\" used?\n",
        "A) Wrestling        B) Hockey\n",
        "C) Kabaddi          D) Footbally''',2,[\"C\",\"c\",\"C) Kabaddi\",\"Kabaddi\"]],\n",
        "        ['''Which city hosted the 2010 Commonwealth Games in India?\n",
        "A) Mumbai           B) Delhi\n",
        "C) Chennai          D) Kolkata''',3,[\"B\",\"b\",\"B) Delhi\",\"Delhi\"]],\n",
        "    ['''Who was the first Indian woman to win a silver medal at the Olympics?\n",
        "A) Mary Kom         B) P.V. Sindhu\n",
        "C) Saina Nehwal     D) Karnam Malleswari''',4,[\"b\",\"B\",\"B) P.V. Sindhu\",\"P.V. Sindhu\"]],\n",
        "      ['''In which year did India host the first Asian Games?\n",
        "A) 1951             B) 1962\n",
        "C) 1982             D) 1990''',5,[\"a\",\"A\",\"A) 1951\",\"1951\"]]],\n",
        "      \"nation\": [\n",
        "    ['''What is the capital of India?\n",
        "A) Mumbai            B) Kolkata\n",
        "C) New Delhi         D) Hyderabad''', 1, [\"C\", \"c\", \"C) New Delhi\", \"New Delhi\"]],\n",
        "\n",
        "    ['''Who was the first Prime Minister of independent India?\n",
        "A) Mahatma Gandhi    B) Jawaharlal Nehru\n",
        "C) B.R. Ambedkar     D) Sardar Patel''', 2, [\"B\", \"b\", \"B) Jawaharlal Nehru\", \"Jawaharlal Nehru\"]],\n",
        "\n",
        "    ['''In which year did India become a republic?\n",
        "A) 1947              B) 1950\n",
        "C) 1952              D) 1949''', 3, [\"B\", \"b\", \"B) 1950\", \"1950\"]],\n",
        "\n",
        "    ['''Which is the longest river in India?\n",
        "A) Ganga             B) Godavari\n",
        "C) Brahmaputra       D) Yamuna''', 4, [\"A\", \"a\", \"A) Ganga\", \"Ganga\"]],\n",
        "\n",
        "    ['''What is the national currency of India?\n",
        "A) Dollar            B) Taka\n",
        "C) Rupee             D) Yen''', 5, [\"C\", \"c\", \"C) Rupee\", \"Rupee\"]]\n",
        "],\n",
        " \"religion\": [\n",
        "    ['''Diwali is the festival of:\n",
        "A) Lights            B) Colors\n",
        "C) Harvest           D) Flowers''', 1, [\"A\", \"a\", \"A) Lights\", \"Lights\"]],\n",
        "\n",
        "    ['''Which god is known as the destroyer in the Hindu Trinity?\n",
        "A) Brahma            B) Vishnu\n",
        "C) Shiva             D) Indra''', 2, [\"C\", \"c\", \"C) Shiva\", \"Shiva\"]],\n",
        "\n",
        "    ['''Which religion originated from India?\n",
        "A) Islam             B) Christianity\n",
        "C) Buddhism          D) Judaism''', 3, [\"C\", \"c\", \"C) Buddhism\", \"Buddhism\"]],\n",
        "\n",
        "    ['''The Bhagavad Gita is a part of which epic?\n",
        "A) Ramayana          B) Mahabharata\n",
        "C) Vedas             D) Puranas''', 4, [\"B\", \"b\", \"B) Mahabharata\", \"Mahabharata\"]],\n",
        "\n",
        "    ['''Which Sikh Guru founded the Khalsa?\n",
        "A) Guru Nanak        B) Guru Arjan Dev\n",
        "C) Guru Gobind Singh D) Guru Harkrishan''', 5, [\"C\", \"c\", \"C) Guru Gobind Singh\", \"Guru Gobind Singh\"]]\n",
        "],\n",
        "    \"cinema\": [\n",
        "    ['''Who is known as the \"King of Bollywood\"?\n",
        "A) Aamir Khan        B) Salman Khan\n",
        "C) Shah Rukh Khan    D) Hrithik Roshan''', 1, [\"C\", \"c\", \"C) Shah Rukh Khan\", \"Shah Rukh Khan\"]],\n",
        "\n",
        "    ['''Which movie won the Best Picture at the 2023 National Film Awards?\n",
        "A) Jawan             B) RRR\n",
        "C) Rocketry          D) The Kashmir Files''', 2, [\"C\", \"c\", \"C) Rocketry\", \"Rocketry\"]],\n",
        "\n",
        "    ['''Which actress is known as \"Dream Girl\" of Bollywood?\n",
        "A) Sridevi           B) Hema Malini\n",
        "C) Rekha             D) Madhuri Dixit''', 3, [\"B\", \"b\", \"B) Hema Malini\", \"Hema Malini\"]],\n",
        "\n",
        "    ['''Which film was India’s official entry for Oscars 2024?\n",
        "A) Kantara           B) 2018\n",
        "C) Jailer            D) Pathaan''', 4, [\"B\", \"b\", \"B) 2018\", \"2018\"]],\n",
        "\n",
        "    ['''Who composed music for the movie Lagaan?\n",
        "A) A.R. Rahman       B) Pritam\n",
        "C) Anu Malik         D) Vishal-Shekhar''', 5, [\"A\", \"a\", \"A) A.R. Rahman\", \"A.R. Rahman\"]]\n",
        "]\n",
        "\n",
        "\n",
        "}"
      ]
    },
    {
      "cell_type": "code",
      "source": [
        "import random"
      ],
      "metadata": {
        "id": "HJ38WnHtO9mB"
      },
      "execution_count": null,
      "outputs": []
    },
    {
      "cell_type": "code",
      "source": [
        "def price(a):\n",
        "  return a*1000"
      ],
      "metadata": {
        "id": "vVJzb2HoTFGn"
      },
      "execution_count": null,
      "outputs": []
    },
    {
      "cell_type": "code",
      "source": [
        "j=1\n",
        "i=1\n",
        "while j>0:\n",
        "  cho=random.choice([\"sport\",\"nation\",\"religion\",\"cinema\"])\n",
        "  qu=random.choice(RESPONSE_LIBRARY[cho])\n",
        "  print(qu[0])\n",
        "  num=input(\"Enter your choice   \")\n",
        "  if num in qu[2]:\n",
        "    print(\"correct answer\")\n",
        "    i=i*2\n",
        "    print(\"You winning \",price(i),\"\\nkeep it up !!!\")\n",
        "  else:\n",
        "    print(\"You loss!!!!\")\n",
        "    break\n",
        "print(price(i))"
      ],
      "metadata": {
        "colab": {
          "base_uri": "https://localhost:8080/"
        },
        "id": "3Yl4gY9-OTNB",
        "outputId": "f44523d0-9774-44ce-d40b-1be9eb43b1cb"
      },
      "execution_count": null,
      "outputs": [
        {
          "output_type": "stream",
          "name": "stdout",
          "text": [
            "Which religion originated from India?\n",
            "A) Islam             B) Christianity\n",
            "C) Buddhism          D) Judaism\n",
            "Enter your choice   c\n",
            "correct answer\n",
            "You winning  2000 \n",
            "keep it up !!!\n",
            "In which year did India host the first Asian Games?\n",
            "A) 1951             B) 1962\n",
            "C) 1982             D) 1990\n",
            "Enter your choice   a\n",
            "correct answer\n",
            "You winning  4000 \n",
            "keep it up !!!\n",
            "In which sport is the term \"Do or Die Raid\" used?\n",
            "A) Wrestling        B) Hockey\n",
            "C) Kabaddi          D) Footbally\n",
            "Enter your choice   c\n",
            "correct answer\n",
            "You winning  8000 \n",
            "keep it up !!!\n",
            "Diwali is the festival of:\n",
            "A) Lights            B) Colors\n",
            "C) Harvest           D) Flowers\n",
            "Enter your choice   a\n",
            "correct answer\n",
            "You winning  16000 \n",
            "keep it up !!!\n",
            "Diwali is the festival of:\n",
            "A) Lights            B) Colors\n",
            "C) Harvest           D) Flowers\n",
            "Enter your choice   a\n",
            "correct answer\n",
            "You winning  32000 \n",
            "keep it up !!!\n",
            "Which is the longest river in India?\n",
            "A) Ganga             B) Godavari\n",
            "C) Brahmaputra       D) Yamuna\n",
            "Enter your choice   a\n",
            "correct answer\n",
            "You winning  64000 \n",
            "keep it up !!!\n",
            "Which movie won the Best Picture at the 2023 National Film Awards?\n",
            "A) Jawan             B) RRR\n",
            "C) Rocketry          D) The Kashmir Files\n",
            "Enter your choice   b\n",
            "You loss!!!!\n",
            "64000\n"
          ]
        }
      ]
    }
  ]
}