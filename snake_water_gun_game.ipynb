{
  "nbformat": 4,
  "nbformat_minor": 0,
  "metadata": {
    "colab": {
      "provenance": []
    },
    "kernelspec": {
      "name": "python3",
      "display_name": "Python 3"
    },
    "language_info": {
      "name": "python"
    }
  },
  "cells": [
    {
      "cell_type": "code",
      "execution_count": 2,
      "metadata": {
        "colab": {
          "base_uri": "https://localhost:8080/"
        },
        "id": "ZhoFKQQDpzpG",
        "outputId": "cec607f6-2e13-4fe7-fdec-0a4cfecbc340"
      },
      "outputs": [
        {
          "name": "stdout",
          "output_type": "stream",
          "text": [
            "Snake(s) water(w) gun(g)  : w\n",
            "computer choose  :s\n",
            "You lose this round!\n",
            "points :-1\n",
            "Snake(s) water(w) gun(g)  : \n",
            "invalid output\n",
            "Snake(s) water(w) gun(g)  : w\n",
            "computer choose  :s\n",
            "You lose this round!\n",
            "points :-2\n",
            "Snake(s) water(w) gun(g)  : w\n",
            "computer choose  :w\n",
            "Draw !!!\n",
            "points :-2\n",
            "Snake(s) water(w) gun(g)  : g\n",
            "computer choose  :s\n",
            "You win this round!\n",
            "points :-1\n",
            "Snake(s) water(w) gun(g)  : s\n",
            "computer choose  :g\n",
            "You lose this round!\n",
            "points :-2\n",
            "Snake(s) water(w) gun(g)  : d\n",
            "invalid output\n",
            "Snake(s) water(w) gun(g)  : s\n",
            "computer choose  :s\n",
            "Draw !!!\n",
            "points :-2\n",
            "Snake(s) water(w) gun(g)  : w\n",
            "computer choose  :g\n",
            "You win this round!\n",
            "points :-1\n",
            "Snake(s) water(w) gun(g)  : exit\n"
          ]
        }
      ],
      "source": [
        "import random\n",
        "i=5\n",
        "point=0\n",
        "chose=[\"s\",\"w\",\"g\"]\n",
        "while i>0:\n",
        "  user=input(\"Snake(s) water(w) gun(g)  : \")\n",
        "  if user==\"exit\":\n",
        "    break\n",
        "\n",
        "  if (not user in chose):\n",
        "    print(\"invalid output\")\n",
        "    continue\n",
        "\n",
        "  computer=random.choice(chose)\n",
        "  print(f\"computer choose  :{computer}\")\n",
        "  if user==computer:\n",
        "    print(\"Draw !!!\")\n",
        "  elif (user==\"s\" and computer==\"w\") or (user==\"w\" and computer==\"g\") or (user==\"g\" and computer==\"s\"):\n",
        "    point+=1\n",
        "    print(\"You win this round!\")\n",
        "  else:\n",
        "    point-=1\n",
        "    print(\"You lose this round!\")\n",
        "  print(f\"points :{point}\")\n",
        "  if point==5:\n",
        "    break"
      ]
    }
  ]
}