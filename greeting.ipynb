{
  "nbformat": 4,
  "nbformat_minor": 0,
  "metadata": {
    "colab": {
      "provenance": []
    },
    "kernelspec": {
      "name": "python3",
      "display_name": "Python 3"
    },
    "language_info": {
      "name": "python"
    }
  },
  "cells": [
    {
      "cell_type": "code",
      "execution_count": 1,
      "metadata": {
        "colab": {
          "base_uri": "https://localhost:8080/"
        },
        "id": "EWVzX_9OK-10",
        "outputId": "e6873205-c8d2-4567-a5dc-159cdc1868ab"
      },
      "outputs": [
        {
          "output_type": "stream",
          "name": "stdout",
          "text": [
            "6\n",
            "good morning\n"
          ]
        }
      ],
      "source": [
        "import time\n",
        "current_time = time.strftime(\"%H:%M:%S\")\n",
        "hour=int(current_time[:2])\n",
        "print(hour)\n",
        "if hour>=6 and hour<12:\n",
        "  print(\"good morning\")\n",
        "elif hour>=12 and hour<17:\n",
        "  print(\"good afternoon\")\n",
        "elif hour>=17 and hour<21:\n",
        "  print(\"good evening\")\n",
        "else:\n",
        "  print(\"good night\")"
      ]
    }
  ]
}