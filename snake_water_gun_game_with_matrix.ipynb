{
  "nbformat": 4,
  "nbformat_minor": 0,
  "metadata": {
    "colab": {
      "provenance": []
    },
    "kernelspec": {
      "name": "python3",
      "display_name": "Python 3"
    },
    "language_info": {
      "name": "python"
    }
  },
  "cells": [
    {
      "cell_type": "code",
      "execution_count": 2,
      "metadata": {
        "id": "8o3XeRBG3uG6",
        "colab": {
          "base_uri": "https://localhost:8080/"
        },
        "outputId": "5933c2c5-bda2-439b-f0d2-ee248943c369"
      },
      "outputs": [
        {
          "name": "stdout",
          "output_type": "stream",
          "text": [
            "Snake(s) Water(w) Gun(g) or 'quit' : s\n",
            "computer choice :s\n",
            "It's a drow\n",
            "Snake(s) Water(w) Gun(g) or 'quit' : w\n",
            "computer choice :w\n",
            "It's a drow\n",
            "Snake(s) Water(w) Gun(g) or 'quit' : g\n",
            "computer choice :w\n",
            "you loss!!!\n",
            "Snake(s) Water(w) Gun(g) or 'quit' : d\n",
            "invalid input\n",
            "Snake(s) Water(w) Gun(g) or 'quit' : quit\n"
          ]
        }
      ],
      "source": [
        "import random\n",
        "\n",
        "corr_matrix={\n",
        "    (\"s\",\"w\"):1,\n",
        "    (\"w\",\"g\"):1,\n",
        "    (\"g\",\"s\"):1,\n",
        "    (\"s\",\"s\"):0,\n",
        "    (\"w\",\"w\"):0,\n",
        "    (\"g\",\"g\"):0,\n",
        "    (\"w\",\"s\"):-1,\n",
        "    (\"g\",\"w\"):-1,\n",
        "    (\"s\",\"g\"):-1\n",
        "}\n",
        "chose=[\"s\",\"w\",\"g\"]\n",
        "point=0\n",
        "i=5\n",
        "while i>0:\n",
        "  user=input(\"Snake(s) Water(w) Gun(g) or 'quit' : \").lower()\n",
        "  if user==\"quit\":\n",
        "    break\n",
        "  if (not user in chose):\n",
        "    print(\"invalid input\")\n",
        "    continue\n",
        "\n",
        "  computer=random.choice(chose)\n",
        "  print(f\"computer choice :{computer}\")\n",
        "\n",
        "  result=corr_matrix.get((user,computer),0)\n",
        "  point+=result\n",
        "\n",
        "  if result==1:\n",
        "    print(\"you won!!!\")\n",
        "  elif result==-1:\n",
        "    print(\"you loss!!!\")\n",
        "  else:\n",
        "    print(\"It's a drow\")\n",
        "\n",
        "  if point==5:\n",
        "    print(\"the campionship\")\n",
        "    break\n"
      ]
    }
  ]
}