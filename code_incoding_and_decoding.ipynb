{
  "nbformat": 4,
  "nbformat_minor": 0,
  "metadata": {
    "colab": {
      "provenance": []
    },
    "kernelspec": {
      "name": "python3",
      "display_name": "Python 3"
    },
    "language_info": {
      "name": "python"
    }
  },
  "cells": [
    {
      "cell_type": "code",
      "execution_count": null,
      "metadata": {
        "colab": {
          "base_uri": "https://localhost:8080/"
        },
        "id": "ab3ArhtALpB2",
        "outputId": "ece2dcf7-60ba-4fb7-b7c3-5e25afd3fe3a"
      },
      "outputs": [
        {
          "output_type": "stream",
          "name": "stdout",
          "text": [
            "enter the textdjcnbj\n",
            "FUpjcnbjdmaH\n",
            "want to decode'y/n'y\n",
            "decode succesful\n"
          ]
        }
      ],
      "source": [
        "import random\n",
        "import string\n",
        "a=input(\"enter the text\")\n",
        "if len(a)>=3:\n",
        "  b=a\n",
        "  first=b[0]\n",
        "  b=b[1:]\n",
        "  b=b+first\n",
        "  random_char1 = random.choice(string.ascii_letters)  # a-z or A-Z\n",
        "  random_char2 = random.choice(string.ascii_letters)\n",
        "  random_char3 = random.choice(string.ascii_letters)\n",
        "  start=random_char1+random_char2+random_char3\n",
        "  random_char4 = random.choice(string.ascii_letters)\n",
        "  random_char5 = random.choice(string.ascii_letters)\n",
        "  random_char6= random.choice(string.ascii_letters)\n",
        "  end=random_char4+random_char5+random_char6\n",
        "  b=start+b+end\n",
        "  print(b)\n",
        "else:\n",
        "  c=a[::-1]\n",
        "  print(c)\n",
        "x=input(\"want to decode'y/n'\")\n",
        "if x==\"y\":\n",
        "  if len(a)>=3:\n",
        "    c=b[3:len(b)-3]\n",
        "    d=c\n",
        "    last=c[len(d)-1]\n",
        "    c=c[:len(d)-1]\n",
        "    c=last+c\n",
        "    if c==a:\n",
        "      print(\"decode succesful\")\n",
        "    else:\n",
        "      print(\"faild\")\n",
        "  else:\n",
        "    print(c[::-1])"
      ]
    }
  ]
}